{
 "cells": [
  {
   "cell_type": "code",
   "execution_count": 1,
   "metadata": {},
   "outputs": [
    {
     "name": "stdout",
     "output_type": "stream",
     "text": [
      "I will turn 100 years old in the year 2089.\n"
     ]
    }
   ],
   "source": [
    "# Calculate the year I will turn 100 years old\n",
    "current_year = 2024\n",
    "my_age = 35\n",
    "year_until_100 = 100 - my_age\n",
    "year_turn_100 = current_year + year_until_100\n",
    "\n",
    "# Print the result\n",
    "print(f'I will turn 100 years old in the year {year_turn_100}.')"
   ]
  }
 ],
 "metadata": {
  "kernelspec": {
   "display_name": "Python 3",
   "language": "python",
   "name": "python3"
  },
  "language_info": {
   "codemirror_mode": {
    "name": "ipython",
    "version": 3
   },
   "file_extension": ".py",
   "mimetype": "text/x-python",
   "name": "python",
   "nbconvert_exporter": "python",
   "pygments_lexer": "ipython3",
   "version": "3.12.3"
  }
 },
 "nbformat": 4,
 "nbformat_minor": 2
}
